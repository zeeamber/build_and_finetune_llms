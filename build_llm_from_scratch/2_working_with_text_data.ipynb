{
 "cells": [
  {
   "cell_type": "markdown",
   "id": "aaa0020e",
   "metadata": {},
   "source": [
    "# Creating embeddings for the LLM\n",
    "1. Tokenization\n",
    "2. Data sampling\n",
    "3. Token embeddings"
   ]
  },
  {
   "cell_type": "markdown",
   "id": "8d184bdf",
   "metadata": {},
   "source": [
    "## Tokenization\n",
    "- BPE (Byte pair enconding) tokenizer was used to train LLMs such as GPT-2, GPT-3 and the original model used in ChatGPT"
   ]
  },
  {
   "cell_type": "code",
   "execution_count": 1,
   "id": "7fe5bd36",
   "metadata": {},
   "outputs": [
    {
     "name": "stdout",
     "output_type": "stream",
     "text": [
      "titoken version: 0.9.0\n"
     ]
    }
   ],
   "source": [
    "from importlib.metadata import version\n",
    "import tiktoken # An OpenAI library which impelements BPE efficiently\n",
    "print(f\"titoken version: {version('tiktoken')}\")"
   ]
  },
  {
   "cell_type": "code",
   "execution_count": 2,
   "id": "ef654464",
   "metadata": {},
   "outputs": [],
   "source": [
    "# Instantiate BPE tokenizer\n",
    "tokenizer = tiktoken.get_encoding(\"gpt2\")"
   ]
  },
  {
   "cell_type": "code",
   "execution_count": 3,
   "id": "922e08c7",
   "metadata": {},
   "outputs": [
    {
     "name": "stdout",
     "output_type": "stream",
     "text": [
      "Encoded text: [15496, 11, 466, 345, 588, 8887, 30, 220, 50256, 554, 262, 4252, 18250, 8812, 2114, 1659, 617, 34680, 5372]\n"
     ]
    }
   ],
   "source": [
    "# Encode a text\n",
    "text = (\n",
    "    \"Hello, do you like tea? <|endoftext|> In the sunlit terraces\"\n",
    "    \"of someunknownplace\"\n",
    ")\n",
    "\n",
    "integers = tokenizer.encode(text, allowed_special= {\"<|endoftext|>\"})\n",
    "print(f\"Encoded text: {integers}\")"
   ]
  },
  {
   "cell_type": "code",
   "execution_count": 4,
   "id": "2182e9fb",
   "metadata": {},
   "outputs": [
    {
     "name": "stdout",
     "output_type": "stream",
     "text": [
      "Decoded text: Hello, do you like tea? <|endoftext|> In the sunlit terracesof someunknownplace\n"
     ]
    }
   ],
   "source": [
    "# Decode back to text\n",
    "decoded_text = tokenizer.decode(integers)\n",
    "print(f\"Decoded text: {decoded_text}\")"
   ]
  },
  {
   "cell_type": "code",
   "execution_count": 5,
   "id": "78dd6c36",
   "metadata": {},
   "outputs": [
    {
     "name": "stdout",
     "output_type": "stream",
     "text": [
      "Encoded text: [33901, 86, 343, 86, 220, 959]\n",
      "Decoded text: Akwirw ier\n"
     ]
    }
   ],
   "source": [
    "# Exercise: Encode and decode a text\n",
    "text = \"Akwirw ier\"\n",
    "integers = tokenizer.encode(text)\n",
    "decoded_text = tokenizer.decode(integers)\n",
    "print(f\"Encoded text: {integers}\")\n",
    "print(f\"Decoded text: {decoded_text}\")"
   ]
  },
  {
   "cell_type": "markdown",
   "id": "59addf24",
   "metadata": {},
   "source": [
    "## Data sampling with a sliding window"
   ]
  },
  {
   "cell_type": "code",
   "execution_count": 6,
   "id": "2b063a46",
   "metadata": {},
   "outputs": [
    {
     "data": {
      "text/plain": [
       "('data/the-verdict.txt', <http.client.HTTPMessage at 0x105028f50>)"
      ]
     },
     "execution_count": 6,
     "metadata": {},
     "output_type": "execute_result"
    }
   ],
   "source": [
    "# Dowload a text corpus\n",
    "import urllib.request\n",
    "url = \"https://raw.githubusercontent.com/rasbt/LLMs-from-scratch/main/ch02/01_main-chapter-code/the-verdict.txt\"\n",
    "filepath = \"data/the-verdict.txt\"\n",
    "urllib.request.urlretrieve(url, filepath)"
   ]
  },
  {
   "cell_type": "code",
   "execution_count": 7,
   "id": "f738a042",
   "metadata": {},
   "outputs": [
    {
     "name": "stdout",
     "output_type": "stream",
     "text": [
      "Text length: 20479 characters\n",
      "Text sample: I HAD always thought Jack Gisburn rather a cheap genius--though a good fellow enough--so it was no \n"
     ]
    }
   ],
   "source": [
    "with open(filepath, \"r\", encoding= \"utf-8\") as f:\n",
    "    raw_text = f.read()\n",
    "print(f\"Text length: {len(raw_text)} characters\")\n",
    "print(f\"Text sample: {raw_text[:99]}\")"
   ]
  },
  {
   "cell_type": "code",
   "execution_count": 8,
   "id": "b4a6c19b",
   "metadata": {},
   "outputs": [
    {
     "name": "stdout",
     "output_type": "stream",
     "text": [
      "Encoded text length: 5145 tokens\n"
     ]
    }
   ],
   "source": [
    "enc_text = tokenizer.encode(raw_text)\n",
    "print(f\"Encoded text length: {len(enc_text)} tokens\")"
   ]
  },
  {
   "cell_type": "code",
   "execution_count": 9,
   "id": "ab42c26e",
   "metadata": {},
   "outputs": [],
   "source": [
    "# Remove the first 50 tokens from the encoded text\n",
    "enc_sample = enc_text[50:]"
   ]
  },
  {
   "cell_type": "code",
   "execution_count": 10,
   "id": "a98d5b75",
   "metadata": {},
   "outputs": [
    {
     "name": "stdout",
     "output_type": "stream",
     "text": [
      "x: [290, 4920, 2241, 287]\n",
      "y:      [4920, 2241, 287, 257]\n"
     ]
    }
   ],
   "source": [
    "# Creating input-target pairs for the next word prediction task\n",
    "# x contains the input tokens, and y contains the target tokens, which are the inputs shifted by one position\n",
    "\n",
    "context_size = 4\n",
    "x = enc_sample[:context_size]\n",
    "y = enc_sample[1:context_size + 1]\n",
    "\n",
    "print(f\"x: {x}\")\n",
    "print(f\"y:      {y}\")"
   ]
  },
  {
   "cell_type": "code",
   "execution_count": 11,
   "id": "14be6cfd",
   "metadata": {},
   "outputs": [
    {
     "name": "stdout",
     "output_type": "stream",
     "text": [
      "[290] ----> 4920\n",
      "[290, 4920] ----> 2241\n",
      "[290, 4920, 2241] ----> 287\n",
      "[290, 4920, 2241, 287] ----> 257\n"
     ]
    }
   ],
   "source": [
    "# construct input-target encode pairs\n",
    "\n",
    "for i in range(1, context_size + 1):\n",
    "    context = enc_sample[:i]\n",
    "    desired = enc_sample[i]\n",
    "    print(context, \"---->\", desired)"
   ]
  },
  {
   "cell_type": "code",
   "execution_count": 12,
   "id": "52f6375c",
   "metadata": {},
   "outputs": [
    {
     "name": "stdout",
     "output_type": "stream",
     "text": [
      " and ---->  established\n",
      " and established ---->  himself\n",
      " and established himself ---->  in\n",
      " and established himself in ---->  a\n"
     ]
    }
   ],
   "source": [
    "# contruct input-target word pairs\n",
    "for i in range(1, context_size + 1):\n",
    "    context = tokenizer.decode(enc_sample[:i])\n",
    "    desired = tokenizer.decode([enc_sample[i]]) # Array containing single token\n",
    "    print(context, \"---->\", desired)"
   ]
  },
  {
   "cell_type": "code",
   "execution_count": 13,
   "id": "7b47b395",
   "metadata": {},
   "outputs": [
    {
     "name": "stderr",
     "output_type": "stream",
     "text": [
      "/Users/zamber/Learning/build_llm_from_scratch/build_llm_from_scratch/lib/python3.11/site-packages/torch/nn/modules/transformer.py:20: UserWarning: Failed to initialize NumPy: No module named 'numpy' (Triggered internally at /Users/runner/work/pytorch/pytorch/pytorch/torch/csrc/utils/tensor_numpy.cpp:84.)\n",
      "  device: torch.device = torch.device(torch._C._get_default_device()),  # torch.device('cpu'),\n"
     ]
    }
   ],
   "source": [
    "# Creating inputs and targets as tensors\n",
    "# Pytorch has built-in Dataset and DataLoader classes for efficient data loading\n",
    "\n",
    "import torch\n",
    "from torch.utils.data import Dataset, DataLoader\n",
    "\n",
    "class GPTDatasetV1(Dataset):\n",
    "    def __init__(self, text, tokkenizer, max_length, stride):\n",
    "        self.input_ids = []\n",
    "        self.target_ids = []\n",
    "\n",
    "        token_ids = tokkenizer.encode(text)\n",
    "\n",
    "        for i in range(0, len(token_ids) - max_length, stride):\n",
    "            input_chunk = token_ids[i:i + max_length]\n",
    "            target_chunk = token_ids[i + 1:i + max_length + 1]\n",
    "            self.input_ids.append(torch.tensor(input_chunk))\n",
    "            self.target_ids.append(torch.tensor(target_chunk))\n",
    "\n",
    "    def __len__(self):\n",
    "        return len(self.input_ids)\n",
    "    \n",
    "    def __getitem__(self, idx):\n",
    "        return self.input_ids[idx], self.target_ids[idx]\n",
    "\n",
    "\n"
   ]
  },
  {
   "cell_type": "code",
   "execution_count": 14,
   "id": "7e3c5144",
   "metadata": {},
   "outputs": [],
   "source": [
    "# A data loader to generate batches with input pairs\n",
    "\n",
    "def create_dataloader_v1(text, batch_size=4, max_length=256, stride=128, shuffle=True, drop_last=True, num_workers=0):\n",
    "    tokenizer = tiktoken.get_encoding(\"gpt2\")\n",
    "    dataset = GPTDatasetV1(text, tokenizer, max_length, stride)\n",
    "    dataloader = DataLoader(\n",
    "        dataset,\n",
    "        batch_size=batch_size,\n",
    "        shuffle=shuffle,\n",
    "        drop_last=drop_last,\n",
    "        num_workers=num_workers\n",
    "    )\n",
    "    return dataloader"
   ]
  },
  {
   "cell_type": "code",
   "execution_count": 15,
   "id": "f0eda0ed",
   "metadata": {},
   "outputs": [
    {
     "name": "stdout",
     "output_type": "stream",
     "text": [
      "[tensor([[  40,  367, 2885, 1464]]), tensor([[ 367, 2885, 1464, 1807]])]\n"
     ]
    }
   ],
   "source": [
    "# create a data loader with a batch size of 1 and context window 4\n",
    "with open(filepath, \"r\", encoding=\"utf-8\") as f:\n",
    "    raw_text = f.read()\n",
    "dataloader = create_dataloader_v1(raw_text, batch_size=1, max_length=4, stride=1, shuffle=False)\n",
    "# Iterate through the data loader\n",
    "data_iter = iter(dataloader)\n",
    "first_batch = next(data_iter)\n",
    "print(first_batch)"
   ]
  },
  {
   "cell_type": "code",
   "execution_count": 16,
   "id": "3243ad52",
   "metadata": {},
   "outputs": [
    {
     "name": "stdout",
     "output_type": "stream",
     "text": [
      "[tensor([[ 367, 2885, 1464, 1807]]), tensor([[2885, 1464, 1807, 3619]])]\n"
     ]
    }
   ],
   "source": [
    "second_batch = next(data_iter)\n",
    "print(second_batch)"
   ]
  },
  {
   "cell_type": "code",
   "execution_count": 17,
   "id": "562522c4",
   "metadata": {},
   "outputs": [
    {
     "name": "stdout",
     "output_type": "stream",
     "text": [
      "First batch: [tensor([[ 40, 367]]), tensor([[ 367, 2885]])]\n",
      "Second batch: [tensor([[2885, 1464]]), tensor([[1464, 1807]])]\n"
     ]
    }
   ],
   "source": [
    "# data loader with max_length 2 and stride 2\n",
    "dataloader = create_dataloader_v1(raw_text, batch_size=1, max_length=2, stride=2, shuffle=False)\n",
    "data_iter = iter(dataloader)\n",
    "first_batch = next(data_iter)\n",
    "print(f\"First batch: {first_batch}\")\n",
    "second_batch = next(data_iter)\n",
    "print(f\"Second batch: {second_batch}\")"
   ]
  },
  {
   "cell_type": "code",
   "execution_count": 18,
   "id": "48598185",
   "metadata": {},
   "outputs": [
    {
     "name": "stdout",
     "output_type": "stream",
     "text": [
      "First batch: [tensor([[  40,  367, 2885, 1464, 1807, 3619,  402,  271]]), tensor([[  367,  2885,  1464,  1807,  3619,   402,   271, 10899]])]\n",
      "Second batch: [tensor([[ 2885,  1464,  1807,  3619,   402,   271, 10899,  2138]]), tensor([[ 1464,  1807,  3619,   402,   271, 10899,  2138,   257]])]\n"
     ]
    }
   ],
   "source": [
    "# data loader with max_length 8 and stride 2\n",
    "dataloader = create_dataloader_v1(raw_text, batch_size=1, max_length=8, stride=2, shuffle=False)\n",
    "data_iter = iter(dataloader)\n",
    "first_batch = next(data_iter)\n",
    "print(f\"First batch: {first_batch}\")\n",
    "second_batch = next(data_iter)\n",
    "print(f\"Second batch: {second_batch}\")"
   ]
  },
  {
   "cell_type": "code",
   "execution_count": 19,
   "id": "28d4e89d",
   "metadata": {},
   "outputs": [
    {
     "name": "stdout",
     "output_type": "stream",
     "text": [
      "Inputs:\n",
      " tensor([[   40,   367,  2885,  1464],\n",
      "        [ 1807,  3619,   402,   271],\n",
      "        [10899,  2138,   257,  7026],\n",
      "        [15632,   438,  2016,   257],\n",
      "        [  922,  5891,  1576,   438],\n",
      "        [  568,   340,   373,   645],\n",
      "        [ 1049,  5975,   284,   502],\n",
      "        [  284,  3285,   326,    11]])\n",
      "Targets:\n",
      " tensor([[  367,  2885,  1464,  1807],\n",
      "        [ 3619,   402,   271, 10899],\n",
      "        [ 2138,   257,  7026, 15632],\n",
      "        [  438,  2016,   257,   922],\n",
      "        [ 5891,  1576,   438,   568],\n",
      "        [  340,   373,   645,  1049],\n",
      "        [ 5975,   284,   502,   284],\n",
      "        [ 3285,   326,    11,   287]])\n"
     ]
    }
   ],
   "source": [
    "# data loader with batch_size 8, max_length 4 and stride 4\n",
    "dataloader = create_dataloader_v1(raw_text, batch_size=8, max_length=4, stride=4, shuffle=False)\n",
    "data_iter = iter(dataloader)\n",
    "inputs, targets = next(data_iter)\n",
    "print(f\"Inputs:\\n {inputs}\")\n",
    "print(f\"Targets:\\n {targets}\")"
   ]
  },
  {
   "cell_type": "markdown",
   "id": "8012b341",
   "metadata": {},
   "source": [
    "Note: Equal max_length (Window size) and stride avoids overlap between the batches. Overlaps could lead to increased overfitting."
   ]
  },
  {
   "cell_type": "markdown",
   "id": "9d688c56",
   "metadata": {},
   "source": [
    "## Creating token embeddings"
   ]
  },
  {
   "cell_type": "code",
   "execution_count": 1,
   "id": "6c76246e",
   "metadata": {},
   "outputs": [
    {
     "name": "stderr",
     "output_type": "stream",
     "text": [
      "/Users/zamber/Learning/build_llm_from_scratch/build_llm_from_scratch/lib/python3.11/site-packages/torch/nn/modules/transformer.py:20: UserWarning: Failed to initialize NumPy: No module named 'numpy' (Triggered internally at /Users/runner/work/pytorch/pytorch/pytorch/torch/csrc/utils/tensor_numpy.cpp:84.)\n",
      "  device: torch.device = torch.device(torch._C._get_default_device()),  # torch.device('cpu'),\n"
     ]
    },
    {
     "data": {
      "text/plain": [
       "'2.2.2'"
      ]
     },
     "execution_count": 1,
     "metadata": {},
     "output_type": "execute_result"
    }
   ],
   "source": [
    "import torch\n",
    "torch.__version__"
   ]
  },
  {
   "cell_type": "code",
   "execution_count": 21,
   "id": "a374876c",
   "metadata": {},
   "outputs": [
    {
     "data": {
      "text/plain": [
       "False"
      ]
     },
     "execution_count": 21,
     "metadata": {},
     "output_type": "execute_result"
    }
   ],
   "source": [
    "torch.cuda.is_available()  # Check if CUDA is available"
   ]
  },
  {
   "cell_type": "code",
   "execution_count": 22,
   "id": "fcbf1a1a",
   "metadata": {},
   "outputs": [
    {
     "data": {
      "text/plain": [
       "True"
      ]
     },
     "execution_count": 22,
     "metadata": {},
     "output_type": "execute_result"
    }
   ],
   "source": [
    "torch.backends.mps.is_available()  # Check if MPS (Metal Performance Shaders) is available on macOS"
   ]
  },
  {
   "cell_type": "code",
   "execution_count": 23,
   "id": "e01910af",
   "metadata": {},
   "outputs": [
    {
     "name": "stdout",
     "output_type": "stream",
     "text": [
      "Parameter containing:\n",
      "tensor([[ 1.9269,  1.4873, -0.4974],\n",
      "        [ 0.4396, -0.7581,  1.0783],\n",
      "        [ 0.8008,  1.6806,  0.3559],\n",
      "        [-0.6866,  0.6105,  1.3347],\n",
      "        [-0.2316,  0.0418, -0.2516],\n",
      "        [ 0.8599, -0.3097, -0.3957]], requires_grad=True)\n"
     ]
    }
   ],
   "source": [
    "input_ids = torch.tensor([2, 3, 5, 1])\n",
    "vocab_size = 6\n",
    "output_dim = 3\n",
    "\n",
    "# Create a random embedding layer\n",
    "torch.manual_seed(42)  # For reproducibility\n",
    "embedding_layer = torch.nn.Embedding(vocab_size, output_dim)\n",
    "print(embedding_layer.weight)"
   ]
  },
  {
   "cell_type": "code",
   "execution_count": 24,
   "id": "dd45ecfc",
   "metadata": {},
   "outputs": [
    {
     "name": "stdout",
     "output_type": "stream",
     "text": [
      "Embedding for token 3: tensor([-0.6866,  0.6105,  1.3347], grad_fn=<EmbeddingBackward0>)\n"
     ]
    }
   ],
   "source": [
    "# Get embedding vector for a token\n",
    "print(f\"Embedding for token {input_ids[1]}: {embedding_layer(input_ids[1])}\")"
   ]
  },
  {
   "cell_type": "code",
   "execution_count": 25,
   "id": "385b363d",
   "metadata": {},
   "outputs": [
    {
     "name": "stdout",
     "output_type": "stream",
     "text": [
      "Embeddings for input_ids: \n",
      "tensor([[ 0.8008,  1.6806,  0.3559],\n",
      "        [-0.6866,  0.6105,  1.3347],\n",
      "        [ 0.8599, -0.3097, -0.3957],\n",
      "        [ 0.4396, -0.7581,  1.0783]], grad_fn=<EmbeddingBackward0>)\n"
     ]
    }
   ],
   "source": [
    "# Get the embeddings for the input_ids\n",
    "embeddings = embedding_layer(input_ids)\n",
    "print(f\"Embeddings for input_ids: \\n{embeddings}\")"
   ]
  },
  {
   "cell_type": "markdown",
   "id": "749428e3",
   "metadata": {},
   "source": [
    "### Positional embeddings"
   ]
  },
  {
   "cell_type": "code",
   "execution_count": 26,
   "id": "2d94ddf5",
   "metadata": {},
   "outputs": [],
   "source": [
    "vocab_size = 50257\n",
    "output_dim = 256 # This is for experimentation. in GPT-3, embedding dimension is 12288\n",
    "token_embedding_layer = torch.nn.Embedding(vocab_size, output_dim)\n"
   ]
  },
  {
   "cell_type": "code",
   "execution_count": 27,
   "id": "5151bf33",
   "metadata": {},
   "outputs": [
    {
     "name": "stdout",
     "output_type": "stream",
     "text": [
      "Token IDs:\n",
      " tensor([[   40,   367,  2885,  1464],\n",
      "        [ 1807,  3619,   402,   271],\n",
      "        [10899,  2138,   257,  7026],\n",
      "        [15632,   438,  2016,   257],\n",
      "        [  922,  5891,  1576,   438],\n",
      "        [  568,   340,   373,   645],\n",
      "        [ 1049,  5975,   284,   502],\n",
      "        [  284,  3285,   326,    11]])\n",
      "\n",
      " Inputs shape:\n",
      " torch.Size([8, 4])\n"
     ]
    }
   ],
   "source": [
    "# Creata a data loader with batch_size 8, max_length 4 and stride 4\n",
    "batch_size = 8\n",
    "max_length = 4\n",
    "stride = 4\n",
    "\n",
    "dataloader = create_dataloader_v1(raw_text, batch_size=batch_size, max_length=max_length, stride=stride, shuffle=False)\n",
    "\n",
    "data_iter = iter(dataloader)\n",
    "inputs, targets = next(data_iter)\n",
    "print(f\"Token IDs:\\n {inputs}\")\n",
    "print(f\"\\n Inputs shape:\\n {inputs.shape}\")"
   ]
  },
  {
   "cell_type": "code",
   "execution_count": 28,
   "id": "15002008",
   "metadata": {},
   "outputs": [
    {
     "name": "stdout",
     "output_type": "stream",
     "text": [
      "torch.Size([8, 4, 256])\n"
     ]
    }
   ],
   "source": [
    "# Use the token embedding layer to embed input tokens into 256-dimensional vectors\n",
    "token_embeddings = token_embedding_layer(inputs)\n",
    "print(token_embeddings.shape)"
   ]
  },
  {
   "cell_type": "code",
   "execution_count": 29,
   "id": "12fab0a3",
   "metadata": {},
   "outputs": [
    {
     "data": {
      "text/plain": [
       "tensor([0, 1, 2, 3])"
      ]
     },
     "execution_count": 29,
     "metadata": {},
     "output_type": "execute_result"
    }
   ],
   "source": [
    "torch.arange(max_length)"
   ]
  },
  {
   "cell_type": "code",
   "execution_count": 30,
   "id": "2b007276",
   "metadata": {},
   "outputs": [
    {
     "data": {
      "text/plain": [
       "torch.Size([4, 256])"
      ]
     },
     "execution_count": 30,
     "metadata": {},
     "output_type": "execute_result"
    }
   ],
   "source": [
    "# positional embedding layer with absulute embedding approach like OpenAI's GPT models\n",
    "context_length = max_length # same window size as the token embedding layer\n",
    "positional_embedding_layer = torch.nn.Embedding(context_length, output_dim)\n",
    "# Get the positional embeddings for the input tokens\n",
    "pos_embeddings = positional_embedding_layer(torch.arange(context_length))\n",
    "pos_embeddings.shape"
   ]
  },
  {
   "cell_type": "code",
   "execution_count": 31,
   "id": "696ffab2",
   "metadata": {},
   "outputs": [
    {
     "data": {
      "text/plain": [
       "torch.Size([8, 4, 256])"
      ]
     },
     "execution_count": 31,
     "metadata": {},
     "output_type": "execute_result"
    }
   ],
   "source": [
    "# Add the positional embeddings to the token embeddings\n",
    "input_embeddings = token_embeddings + pos_embeddings\n",
    "input_embeddings.shape"
   ]
  }
 ],
 "metadata": {
  "kernelspec": {
   "display_name": "build_llm_from_scratch",
   "language": "python",
   "name": "python3"
  },
  "language_info": {
   "codemirror_mode": {
    "name": "ipython",
    "version": 3
   },
   "file_extension": ".py",
   "mimetype": "text/x-python",
   "name": "python",
   "nbconvert_exporter": "python",
   "pygments_lexer": "ipython3",
   "version": "3.11.11"
  }
 },
 "nbformat": 4,
 "nbformat_minor": 5
}
